{
 "cells": [
  {
   "cell_type": "code",
   "execution_count": 1,
   "id": "b2033720",
   "metadata": {},
   "outputs": [],
   "source": [
    "import cvxpy as cp\n",
    "import numpy as np"
   ]
  },
  {
   "cell_type": "code",
   "execution_count": 2,
   "id": "ad3bf2e6",
   "metadata": {},
   "outputs": [],
   "source": [
    "# Define the state space matrix A\n",
    "A = np.array([\n",
    "    [0,1,0],\n",
    "    [0,0,1],\n",
    "    [-0.5,-1.2,-11.3]\n",
    "    ])*10\n",
    "\n",
    "# Define the number of states\n",
    "n = A.shape[0]"
   ]
  },
  {
   "cell_type": "code",
   "execution_count": 10,
   "id": "a8e5e685",
   "metadata": {},
   "outputs": [
    {
     "data": {
      "text/plain": [
       "array([[   0.,   10.,    0.],\n",
       "       [   0.,    0.,   10.],\n",
       "       [  -5.,  -12., -113.]])"
      ]
     },
     "execution_count": 10,
     "metadata": {},
     "output_type": "execute_result"
    }
   ],
   "source": [
    "A"
   ]
  },
  {
   "cell_type": "code",
   "execution_count": 4,
   "id": "52c4a48d",
   "metadata": {},
   "outputs": [],
   "source": [
    "# Define the state space matrix A\n",
    "A = np.array([\n",
    "    [-1,-2],\n",
    "    [1,-4]\n",
    "    ])\n",
    "\n",
    "# Define the number of states\n",
    "n = A.shape[0]"
   ]
  },
  {
   "cell_type": "code",
   "execution_count": 16,
   "id": "5af97de2",
   "metadata": {},
   "outputs": [
    {
     "name": "stdout",
     "output_type": "stream",
     "text": [
      "===============================================================================\n",
      "                                     CVXPY                                     \n",
      "                                     v1.3.0                                    \n",
      "===============================================================================\n",
      "(CVXPY) Mar 08 05:43:21 PM: Your problem has 9 variables, 2 constraints, and 0 parameters.\n",
      "(CVXPY) Mar 08 05:43:21 PM: It is compliant with the following grammars: DCP, DQCP\n",
      "(CVXPY) Mar 08 05:43:21 PM: (If you need to solve this problem multiple times, but with different data, consider using parameters.)\n",
      "(CVXPY) Mar 08 05:43:21 PM: CVXPY will first compile your problem; then, it will invoke a numerical solver to obtain a solution.\n",
      "-------------------------------------------------------------------------------\n",
      "                                  Compilation                                  \n",
      "-------------------------------------------------------------------------------\n",
      "(CVXPY) Mar 08 05:43:21 PM: Compiling problem (target solver=MOSEK).\n",
      "(CVXPY) Mar 08 05:43:21 PM: Reduction chain: Dcp2Cone -> CvxAttr2Constr -> ConeMatrixStuffing -> MOSEK\n",
      "(CVXPY) Mar 08 05:43:21 PM: Applying reduction Dcp2Cone\n",
      "(CVXPY) Mar 08 05:43:21 PM: Applying reduction CvxAttr2Constr\n",
      "(CVXPY) Mar 08 05:43:21 PM: Applying reduction ConeMatrixStuffing\n",
      "(CVXPY) Mar 08 05:43:21 PM: Applying reduction MOSEK\n",
      "(CVXPY) Mar 08 05:43:21 PM: Finished problem compilation (took 1.200e-02 seconds).\n",
      "-------------------------------------------------------------------------------\n",
      "                                Numerical solver                               \n",
      "-------------------------------------------------------------------------------\n",
      "(CVXPY) Mar 08 05:43:21 PM: Invoking solver MOSEK  to obtain a solution.\n",
      "\n",
      "\n",
      "(CVXPY) Mar 08 05:43:21 PM: Problem\n",
      "(CVXPY) Mar 08 05:43:21 PM:   Name                   :                 \n",
      "(CVXPY) Mar 08 05:43:21 PM:   Objective sense        : maximize        \n",
      "(CVXPY) Mar 08 05:43:21 PM:   Type                   : CONIC (conic optimization problem)\n",
      "(CVXPY) Mar 08 05:43:21 PM:   Constraints            : 6               \n",
      "(CVXPY) Mar 08 05:43:21 PM:   Affine conic cons.     : 0               \n",
      "(CVXPY) Mar 08 05:43:21 PM:   Disjunctive cons.      : 0               \n",
      "(CVXPY) Mar 08 05:43:21 PM:   Cones                  : 0               \n",
      "(CVXPY) Mar 08 05:43:21 PM:   Scalar variables       : 0               \n",
      "(CVXPY) Mar 08 05:43:21 PM:   Matrix variables       : 2               \n",
      "(CVXPY) Mar 08 05:43:21 PM:   Integer variables      : 0               \n",
      "(CVXPY) Mar 08 05:43:21 PM: \n",
      "(CVXPY) Mar 08 05:43:21 PM: Optimizer started.\n",
      "(CVXPY) Mar 08 05:43:21 PM: Presolve started.\n",
      "(CVXPY) Mar 08 05:43:21 PM: Eliminator started.\n",
      "(CVXPY) Mar 08 05:43:21 PM: Freed constraints in eliminator : 0\n",
      "(CVXPY) Mar 08 05:43:21 PM: Eliminator terminated.\n",
      "(CVXPY) Mar 08 05:43:21 PM: Linear dependency checker started.\n",
      "(CVXPY) Mar 08 05:43:21 PM: Linear dependency checker terminated.\n",
      "(CVXPY) Mar 08 05:43:21 PM: Eliminator started.\n",
      "(CVXPY) Mar 08 05:43:21 PM: Freed constraints in eliminator : 0\n",
      "(CVXPY) Mar 08 05:43:21 PM: Eliminator terminated.\n",
      "(CVXPY) Mar 08 05:43:21 PM: Eliminator - tries                  : 2                 time                   : 0.00            \n",
      "(CVXPY) Mar 08 05:43:21 PM: Lin. dep.  - tries                  : 1                 time                   : 0.00            \n",
      "(CVXPY) Mar 08 05:43:21 PM: Lin. dep.  - number                 : 0               \n",
      "(CVXPY) Mar 08 05:43:21 PM: Presolve terminated. Time: 0.00    \n",
      "(CVXPY) Mar 08 05:43:21 PM: Problem\n",
      "(CVXPY) Mar 08 05:43:21 PM:   Name                   :                 \n",
      "(CVXPY) Mar 08 05:43:21 PM:   Objective sense        : maximize        \n",
      "(CVXPY) Mar 08 05:43:21 PM:   Type                   : CONIC (conic optimization problem)\n",
      "(CVXPY) Mar 08 05:43:21 PM:   Constraints            : 6               \n",
      "(CVXPY) Mar 08 05:43:21 PM:   Affine conic cons.     : 0               \n",
      "(CVXPY) Mar 08 05:43:21 PM:   Disjunctive cons.      : 0               \n",
      "(CVXPY) Mar 08 05:43:21 PM:   Cones                  : 0               \n",
      "(CVXPY) Mar 08 05:43:21 PM:   Scalar variables       : 0               \n",
      "(CVXPY) Mar 08 05:43:21 PM:   Matrix variables       : 2               \n",
      "(CVXPY) Mar 08 05:43:21 PM:   Integer variables      : 0               \n",
      "(CVXPY) Mar 08 05:43:21 PM: \n",
      "(CVXPY) Mar 08 05:43:21 PM: Optimizer  - threads                : 8               \n",
      "(CVXPY) Mar 08 05:43:21 PM: Optimizer  - solved problem         : the primal      \n",
      "(CVXPY) Mar 08 05:43:21 PM: Optimizer  - Constraints            : 6\n",
      "(CVXPY) Mar 08 05:43:21 PM: Optimizer  - Cones                  : 0\n",
      "(CVXPY) Mar 08 05:43:21 PM: Optimizer  - Scalar variables       : 0                 conic                  : 0               \n",
      "(CVXPY) Mar 08 05:43:21 PM: Optimizer  - Semi-definite variables: 2                 scalarized             : 12              \n",
      "(CVXPY) Mar 08 05:43:21 PM: Factor     - setup time             : 0.00              dense det. time        : 0.00            \n",
      "(CVXPY) Mar 08 05:43:21 PM: Factor     - ML order time          : 0.00              GP order time          : 0.00            \n",
      "(CVXPY) Mar 08 05:43:21 PM: Factor     - nonzeros before factor : 21                after factor           : 21              \n",
      "(CVXPY) Mar 08 05:43:21 PM: Factor     - dense dim.             : 0                 flops                  : 5.98e+02        \n",
      "(CVXPY) Mar 08 05:43:21 PM: ITE PFEAS    DFEAS    GFEAS    PRSTATUS   POBJ              DOBJ              MU       TIME  \n",
      "(CVXPY) Mar 08 05:43:21 PM: 0   8.9e-01  2.0e+00  2.0e+00  0.00e+00   3.000000000e+00   0.000000000e+00   1.0e+00  0.00  \n",
      "(CVXPY) Mar 08 05:43:21 PM: 1   1.4e-01  3.0e-01  7.0e-01  -9.80e-01  7.011167801e+00   0.000000000e+00   1.5e-01  0.01  \n",
      "(CVXPY) Mar 08 05:43:21 PM: 2   3.1e-02  6.9e-02  4.5e-02  2.65e-02   8.286153142e-01   0.000000000e+00   3.5e-02  0.01  \n",
      "(CVXPY) Mar 08 05:43:21 PM: 3   4.1e-03  9.3e-03  2.3e-03  7.13e-01   1.234693183e-01   0.000000000e+00   4.6e-03  0.01  \n",
      "(CVXPY) Mar 08 05:43:21 PM: 4   2.4e-04  5.4e-04  4.8e-05  1.01e+00   1.134613844e-02   0.000000000e+00   2.7e-04  0.01  \n",
      "(CVXPY) Mar 08 05:43:21 PM: 5   4.8e-08  1.1e-07  1.3e-10  9.99e-01   2.198644079e-06   0.000000000e+00   5.5e-08  0.01  \n",
      "(CVXPY) Mar 08 05:43:21 PM: 6   1.8e-13  4.0e-13  4.8e-16  1.00e+00   7.987307601e-12   0.000000000e+00   2.0e-13  0.01  \n",
      "(CVXPY) Mar 08 05:43:21 PM: Optimizer terminated. Time: 0.03    \n",
      "(CVXPY) Mar 08 05:43:21 PM: \n",
      "(CVXPY) Mar 08 05:43:21 PM: \n",
      "(CVXPY) Mar 08 05:43:21 PM: Interior-point solution summary\n",
      "(CVXPY) Mar 08 05:43:21 PM:   Problem status  : PRIMAL_AND_DUAL_FEASIBLE\n",
      "(CVXPY) Mar 08 05:43:21 PM:   Solution status : OPTIMAL\n",
      "(CVXPY) Mar 08 05:43:21 PM:   Primal.  obj: 7.9873076006e-12    nrm: 3e-10    Viol.  con: 3e-10    barvar: 9e-23  \n",
      "(CVXPY) Mar 08 05:43:21 PM:   Dual.    obj: 0.0000000000e+00    nrm: 2e+01    Viol.  con: 0e+00    barvar: 3e-12  \n",
      "-------------------------------------------------------------------------------\n",
      "                                    Summary                                    \n",
      "-------------------------------------------------------------------------------\n",
      "(CVXPY) Mar 08 05:43:21 PM: Problem status: optimal\n",
      "(CVXPY) Mar 08 05:43:21 PM: Optimal value: 0.000e+00\n",
      "(CVXPY) Mar 08 05:43:21 PM: Compilation took 1.200e-02 seconds\n",
      "(CVXPY) Mar 08 05:43:21 PM: Solver (including time spent in interface) took 7.500e-02 seconds\n"
     ]
    },
    {
     "data": {
      "text/plain": [
       "0.0"
      ]
     },
     "execution_count": 16,
     "metadata": {},
     "output_type": "execute_result"
    }
   ],
   "source": [
    "# Define the LMI variables\n",
    "P = cp.Variable((n,n), symmetric = True)\n",
    "\n",
    "Q = np.eye(n)\n",
    "# Define the constraints for the LMI\n",
    "constratints = [P >>0, A.T @ P + P@A + Q << 0]\n",
    "\n",
    "# Define the objective for the LMI optimization problem\n",
    "#obj = cp.Minimize(cp.trace(P))\n",
    "obj = cp.Minimize(0)\n",
    "\n",
    "\n",
    "# Solve the LMI optimization problem\n",
    "prob = cp.Problem(obj, constratints)\n",
    "prob.solve(solver=cp.MOSEK, verbose=True) #, options=options)"
   ]
  },
  {
   "cell_type": "code",
   "execution_count": 17,
   "id": "0fed62a0",
   "metadata": {},
   "outputs": [
    {
     "data": {
      "text/plain": [
       "array([[ 1.33892441,  2.25869913,  0.19325419],\n",
       "       [ 2.25869913, 24.64844637,  2.16832405],\n",
       "       [ 0.19325419,  2.16832405,  0.25358165]])"
      ]
     },
     "execution_count": 17,
     "metadata": {},
     "output_type": "execute_result"
    }
   ],
   "source": [
    "P.value"
   ]
  },
  {
   "cell_type": "code",
   "execution_count": 15,
   "id": "6e283878",
   "metadata": {},
   "outputs": [
    {
     "data": {
      "text/plain": [
       "array([[ 0.63144717,  1.1774732 ,  0.1       ],\n",
       "       [ 1.1774732 , 11.57264165,  1.02289433],\n",
       "       [ 0.1       ,  1.02289433,  0.0949464 ]])"
      ]
     },
     "execution_count": 15,
     "metadata": {},
     "output_type": "execute_result"
    }
   ],
   "source": [
    "P.value"
   ]
  },
  {
   "cell_type": "code",
   "execution_count": 11,
   "id": "5d3c05af",
   "metadata": {},
   "outputs": [
    {
     "name": "stdout",
     "output_type": "stream",
     "text": [
      "===============================================================================\n",
      "                                     CVXPY                                     \n",
      "                                     v1.3.0                                    \n",
      "===============================================================================\n",
      "(CVXPY) Mar 09 03:09:17 PM: Your problem has 10 variables, 3 constraints, and 0 parameters.\n",
      "(CVXPY) Mar 09 03:09:17 PM: It is compliant with the following grammars: DCP, DQCP\n",
      "(CVXPY) Mar 09 03:09:17 PM: (If you need to solve this problem multiple times, but with different data, consider using parameters.)\n",
      "(CVXPY) Mar 09 03:09:17 PM: CVXPY will first compile your problem; then, it will invoke a numerical solver to obtain a solution.\n",
      "-------------------------------------------------------------------------------\n",
      "                                  Compilation                                  \n",
      "-------------------------------------------------------------------------------\n",
      "(CVXPY) Mar 09 03:09:17 PM: Compiling problem (target solver=MOSEK).\n",
      "(CVXPY) Mar 09 03:09:17 PM: Reduction chain: Dcp2Cone -> CvxAttr2Constr -> ConeMatrixStuffing -> MOSEK\n",
      "(CVXPY) Mar 09 03:09:17 PM: Applying reduction Dcp2Cone\n",
      "(CVXPY) Mar 09 03:09:17 PM: Applying reduction CvxAttr2Constr\n",
      "(CVXPY) Mar 09 03:09:17 PM: Applying reduction ConeMatrixStuffing\n",
      "(CVXPY) Mar 09 03:09:17 PM: Applying reduction MOSEK\n",
      "(CVXPY) Mar 09 03:09:17 PM: Finished problem compilation (took 1.203e-02 seconds).\n",
      "-------------------------------------------------------------------------------\n",
      "                                Numerical solver                               \n",
      "-------------------------------------------------------------------------------\n",
      "(CVXPY) Mar 09 03:09:17 PM: Invoking solver MOSEK  to obtain a solution.\n",
      "\n",
      "\n",
      "(CVXPY) Mar 09 03:09:17 PM: Problem\n",
      "(CVXPY) Mar 09 03:09:17 PM:   Name                   :                 \n",
      "(CVXPY) Mar 09 03:09:17 PM:   Objective sense        : maximize        \n",
      "(CVXPY) Mar 09 03:09:17 PM:   Type                   : CONIC (conic optimization problem)\n",
      "(CVXPY) Mar 09 03:09:17 PM:   Constraints            : 7               \n",
      "(CVXPY) Mar 09 03:09:17 PM:   Affine conic cons.     : 0               \n",
      "(CVXPY) Mar 09 03:09:17 PM:   Disjunctive cons.      : 0               \n",
      "(CVXPY) Mar 09 03:09:17 PM:   Cones                  : 0               \n",
      "(CVXPY) Mar 09 03:09:17 PM:   Scalar variables       : 1               \n",
      "(CVXPY) Mar 09 03:09:17 PM:   Matrix variables       : 2               \n",
      "(CVXPY) Mar 09 03:09:17 PM:   Integer variables      : 0               \n",
      "(CVXPY) Mar 09 03:09:17 PM: \n",
      "(CVXPY) Mar 09 03:09:17 PM: Optimizer started.\n",
      "(CVXPY) Mar 09 03:09:17 PM: Presolve started.\n",
      "(CVXPY) Mar 09 03:09:17 PM: Eliminator started.\n",
      "(CVXPY) Mar 09 03:09:17 PM: Freed constraints in eliminator : 0\n",
      "(CVXPY) Mar 09 03:09:17 PM: Eliminator terminated.\n",
      "(CVXPY) Mar 09 03:09:17 PM: Linear dependency checker started.\n",
      "(CVXPY) Mar 09 03:09:17 PM: Linear dependency checker terminated.\n",
      "(CVXPY) Mar 09 03:09:17 PM: Eliminator started.\n",
      "(CVXPY) Mar 09 03:09:17 PM: Freed constraints in eliminator : 0\n",
      "(CVXPY) Mar 09 03:09:17 PM: Eliminator terminated.\n",
      "(CVXPY) Mar 09 03:09:17 PM: Eliminator - tries                  : 2                 time                   : 0.00            \n",
      "(CVXPY) Mar 09 03:09:17 PM: Lin. dep.  - tries                  : 1                 time                   : 0.00            \n",
      "(CVXPY) Mar 09 03:09:17 PM: Lin. dep.  - number                 : 0               \n",
      "(CVXPY) Mar 09 03:09:17 PM: Presolve terminated. Time: 0.00    \n",
      "(CVXPY) Mar 09 03:09:17 PM: Problem\n",
      "(CVXPY) Mar 09 03:09:17 PM:   Name                   :                 \n",
      "(CVXPY) Mar 09 03:09:17 PM:   Objective sense        : maximize        \n",
      "(CVXPY) Mar 09 03:09:17 PM:   Type                   : CONIC (conic optimization problem)\n",
      "(CVXPY) Mar 09 03:09:17 PM:   Constraints            : 7               \n",
      "(CVXPY) Mar 09 03:09:17 PM:   Affine conic cons.     : 0               \n",
      "(CVXPY) Mar 09 03:09:17 PM:   Disjunctive cons.      : 0               \n",
      "(CVXPY) Mar 09 03:09:17 PM:   Cones                  : 0               \n",
      "(CVXPY) Mar 09 03:09:17 PM:   Scalar variables       : 1               \n",
      "(CVXPY) Mar 09 03:09:17 PM:   Matrix variables       : 2               \n",
      "(CVXPY) Mar 09 03:09:17 PM:   Integer variables      : 0               \n",
      "(CVXPY) Mar 09 03:09:17 PM: \n",
      "(CVXPY) Mar 09 03:09:17 PM: Optimizer  - threads                : 8               \n",
      "(CVXPY) Mar 09 03:09:17 PM: Optimizer  - solved problem         : the primal      \n",
      "(CVXPY) Mar 09 03:09:17 PM: Optimizer  - Constraints            : 7\n",
      "(CVXPY) Mar 09 03:09:17 PM: Optimizer  - Cones                  : 0\n",
      "(CVXPY) Mar 09 03:09:17 PM: Optimizer  - Scalar variables       : 1                 conic                  : 0               \n",
      "(CVXPY) Mar 09 03:09:17 PM: Optimizer  - Semi-definite variables: 2                 scalarized             : 16              \n",
      "(CVXPY) Mar 09 03:09:17 PM: Factor     - setup time             : 0.00              dense det. time        : 0.00            \n",
      "(CVXPY) Mar 09 03:09:17 PM: Factor     - ML order time          : 0.00              GP order time          : 0.00            \n",
      "(CVXPY) Mar 09 03:09:17 PM: Factor     - nonzeros before factor : 28                after factor           : 28              \n",
      "(CVXPY) Mar 09 03:09:17 PM: Factor     - dense dim.             : 0                 flops                  : 8.35e+02        \n",
      "(CVXPY) Mar 09 03:09:17 PM: ITE PFEAS    DFEAS    GFEAS    PRSTATUS   POBJ              DOBJ              MU       TIME  \n",
      "(CVXPY) Mar 09 03:09:17 PM: 0   1.0e+00  3.0e+00  5.0e+00  0.00e+00   6.000003000e+00   0.000000000e+00   1.0e+00  0.00  \n",
      "(CVXPY) Mar 09 03:09:17 PM: 1   1.2e-01  3.5e-01  2.3e+00  -1.35e+00  3.457895943e+01   1.220912711e+01   1.2e-01  0.02  \n",
      "(CVXPY) Mar 09 03:09:17 PM: 2   2.3e-02  6.8e-02  8.6e-01  -9.96e-01  1.171214964e+02   5.389533175e+01   2.3e-02  0.02  \n",
      "(CVXPY) Mar 09 03:09:17 PM: 3   6.3e-03  1.9e-02  1.8e-01  -1.98e-01  9.871700973e+01   6.506176269e+01   6.3e-03  0.02  \n",
      "(CVXPY) Mar 09 03:09:17 PM: 4   1.4e-03  4.3e-03  2.0e-02  6.32e-01   5.612406092e+01   4.793258441e+01   1.4e-03  0.02  \n",
      "(CVXPY) Mar 09 03:09:17 PM: 5   5.2e-04  1.6e-03  5.1e-03  6.34e-01   4.136085502e+01   3.719462185e+01   5.2e-04  0.02  \n",
      "(CVXPY) Mar 09 03:09:17 PM: 6   2.7e-05  8.2e-05  3.7e-05  1.10e+00   3.464612015e+01   3.455991378e+01   2.7e-05  0.02  \n",
      "(CVXPY) Mar 09 03:09:17 PM: 7   2.6e-07  7.7e-07  2.5e-08  1.02e+00   3.432714683e+01   3.432666658e+01   2.6e-07  0.02  \n",
      "(CVXPY) Mar 09 03:09:17 PM: 8   2.5e-08  7.6e-08  7.7e-10  1.00e+00   3.432490159e+01   3.432485382e+01   2.5e-08  0.02  \n",
      "(CVXPY) Mar 09 03:09:17 PM: 9   2.9e-09  8.7e-09  3.1e-11  1.00e+00   3.432450060e+01   3.432449464e+01   2.9e-09  0.02  \n",
      "(CVXPY) Mar 09 03:09:17 PM: 10  1.3e-10  4.0e-10  3.2e-13  1.00e+00   3.432443774e+01   3.432443745e+01   1.3e-10  0.02  \n",
      "(CVXPY) Mar 09 03:09:17 PM: Optimizer terminated. Time: 0.03    \n",
      "(CVXPY) Mar 09 03:09:17 PM: \n",
      "(CVXPY) Mar 09 03:09:17 PM: \n",
      "(CVXPY) Mar 09 03:09:17 PM: Interior-point solution summary\n",
      "(CVXPY) Mar 09 03:09:17 PM:   Problem status  : PRIMAL_AND_DUAL_FEASIBLE\n",
      "(CVXPY) Mar 09 03:09:17 PM:   Solution status : OPTIMAL\n",
      "(CVXPY) Mar 09 03:09:17 PM:   Primal.  obj: 3.4324437737e+01    nrm: 2e+01    Viol.  con: 3e-07    var: 5e-09    barvar: 0e+00  \n",
      "(CVXPY) Mar 09 03:09:17 PM:   Dual.    obj: 3.4324437448e+01    nrm: 4e+02    Viol.  con: 0e+00    var: 0e+00    barvar: 3e-08  \n",
      "-------------------------------------------------------------------------------\n",
      "                                    Summary                                    \n",
      "-------------------------------------------------------------------------------\n",
      "(CVXPY) Mar 09 03:09:17 PM: Problem status: optimal\n",
      "(CVXPY) Mar 09 03:09:17 PM: Optimal value: 3.432e+01\n",
      "(CVXPY) Mar 09 03:09:17 PM: Compilation took 1.203e-02 seconds\n",
      "(CVXPY) Mar 09 03:09:17 PM: Solver (including time spent in interface) took 4.400e-02 seconds\n"
     ]
    },
    {
     "data": {
      "text/plain": [
       "34.324437448397035"
      ]
     },
     "execution_count": 11,
     "metadata": {},
     "output_type": "execute_result"
    }
   ],
   "source": [
    "A = np.array([[0, 1, 0], [0, 0, 1], [-0.5, -1.2, -11.3]])\n",
    "B = np.array([[0],[0],[1]])\n",
    "C = np.array([[1],[1],[0]])\n",
    "\n",
    "n = A.shape[0]\n",
    "# Define the LMI variables\n",
    "P = cp.Variable((n,n), symmetric = True)\n",
    "gamma2 = cp.Variable()\n",
    "#gamma = 1.0\n",
    "#Q = np.eye(n)\n",
    "# Define the constraints for the LMI\n",
    "M = cp.bmat([[A.T @ P + P@A +C.T@C, P@B], [B.T@P, -gamma2*np.eye(1)]])\n",
    "constraints = [P >> 1e-6*np.eye(n), M <<0, gamma2 >= 0]\n",
    "\n",
    "# Define the objective for the LMI optimization problem\n",
    "#obj = cp.Minimize(cp.trace(P))\n",
    "obj = cp.Minimize(gamma2)\n",
    "\n",
    "\n",
    "# Solve the LMI optimization problem\n",
    "prob = cp.Problem(obj, constraints)\n",
    "prob.solve(solver=cp.MOSEK, verbose=True) #, options=options)\n",
    "\n",
    "\n",
    "\n"
   ]
  },
  {
   "cell_type": "code",
   "execution_count": 12,
   "id": "bee5af1f",
   "metadata": {},
   "outputs": [
    {
     "data": {
      "text/plain": [
       "array(34.32443745)"
      ]
     },
     "execution_count": 12,
     "metadata": {},
     "output_type": "execute_result"
    }
   ],
   "source": [
    "gamma2.value"
   ]
  },
  {
   "cell_type": "code",
   "execution_count": 13,
   "id": "1ccc08c1",
   "metadata": {},
   "outputs": [
    {
     "name": "stdout",
     "output_type": "stream",
     "text": [
      "[[ 18.01884347  23.68743601   2.41209366]\n",
      " [ 23.68743601 446.30653844  39.84931111]\n",
      " [  2.41209366  39.84931111  10.78110975]]\n"
     ]
    }
   ],
   "source": [
    "P_value = P.value\n",
    "print(P_value)"
   ]
  },
  {
   "cell_type": "code",
   "execution_count": null,
   "id": "f1b1a6d5",
   "metadata": {},
   "outputs": [],
   "source": []
  }
 ],
 "metadata": {
  "kernelspec": {
   "display_name": "Python 3 (ipykernel)",
   "language": "python",
   "name": "python3"
  },
  "language_info": {
   "codemirror_mode": {
    "name": "ipython",
    "version": 3
   },
   "file_extension": ".py",
   "mimetype": "text/x-python",
   "name": "python",
   "nbconvert_exporter": "python",
   "pygments_lexer": "ipython3",
   "version": "3.9.13"
  }
 },
 "nbformat": 4,
 "nbformat_minor": 5
}
