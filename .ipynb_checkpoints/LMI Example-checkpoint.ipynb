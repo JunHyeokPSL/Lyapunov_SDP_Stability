{
 "cells": [
  {
   "cell_type": "code",
   "execution_count": 1,
   "id": "b2033720",
   "metadata": {},
   "outputs": [],
   "source": [
    "import cvxpy as cp\n",
    "import numpy as np"
   ]
  },
  {
   "cell_type": "code",
   "execution_count": 6,
   "id": "ad3bf2e6",
   "metadata": {},
   "outputs": [],
   "source": [
    "# Define the state space matrix A\n",
    "A = np.array([\n",
    "    [0,1,0],\n",
    "    [0,0,1],\n",
    "    [-0.5,-1.2,-11.3]\n",
    "    ])*10\n",
    "\n",
    "# Define the number of states\n",
    "n = A.shape[0]"
   ]
  },
  {
   "cell_type": "code",
   "execution_count": 7,
   "id": "a8e5e685",
   "metadata": {},
   "outputs": [
    {
     "data": {
      "text/plain": [
       "array([[   0.,   10.,    0.],\n",
       "       [   0.,    0.,   10.],\n",
       "       [  -5.,  -12., -113.]])"
      ]
     },
     "execution_count": 7,
     "metadata": {},
     "output_type": "execute_result"
    }
   ],
   "source": [
    "A"
   ]
  },
  {
   "cell_type": "code",
   "execution_count": 2,
   "id": "52c4a48d",
   "metadata": {},
   "outputs": [],
   "source": [
    "# Define the state space matrix A\n",
    "A = np.array([\n",
    "    [-1,-2],\n",
    "    [1,-4]\n",
    "    ])\n",
    "\n",
    "# Define the number of states\n",
    "n = A.shape[0]"
   ]
  },
  {
   "cell_type": "code",
   "execution_count": 8,
   "id": "5af97de2",
   "metadata": {},
   "outputs": [
    {
     "name": "stdout",
     "output_type": "stream",
     "text": [
      "===============================================================================\n",
      "                                     CVXPY                                     \n",
      "                                     v1.3.0                                    \n",
      "===============================================================================\n",
      "(CVXPY) Mar 02 10:09:43 PM: Your problem has 9 variables, 2 constraints, and 0 parameters.\n",
      "(CVXPY) Mar 02 10:09:43 PM: It is compliant with the following grammars: DCP, DQCP\n",
      "(CVXPY) Mar 02 10:09:43 PM: (If you need to solve this problem multiple times, but with different data, consider using parameters.)\n",
      "(CVXPY) Mar 02 10:09:43 PM: CVXPY will first compile your problem; then, it will invoke a numerical solver to obtain a solution.\n",
      "-------------------------------------------------------------------------------\n",
      "                                  Compilation                                  \n",
      "-------------------------------------------------------------------------------\n",
      "(CVXPY) Mar 02 10:09:43 PM: Compiling problem (target solver=MOSEK).\n",
      "(CVXPY) Mar 02 10:09:43 PM: Reduction chain: Dcp2Cone -> CvxAttr2Constr -> ConeMatrixStuffing -> MOSEK\n",
      "(CVXPY) Mar 02 10:09:43 PM: Applying reduction Dcp2Cone\n",
      "(CVXPY) Mar 02 10:09:43 PM: Applying reduction CvxAttr2Constr\n",
      "(CVXPY) Mar 02 10:09:43 PM: Applying reduction ConeMatrixStuffing\n",
      "(CVXPY) Mar 02 10:09:43 PM: Applying reduction MOSEK\n",
      "(CVXPY) Mar 02 10:09:43 PM: Finished problem compilation (took 1.100e-02 seconds).\n",
      "-------------------------------------------------------------------------------\n",
      "                                Numerical solver                               \n",
      "-------------------------------------------------------------------------------\n",
      "(CVXPY) Mar 02 10:09:43 PM: Invoking solver MOSEK  to obtain a solution.\n",
      "\n",
      "\n",
      "(CVXPY) Mar 02 10:09:43 PM: Problem\n",
      "(CVXPY) Mar 02 10:09:43 PM:   Name                   :                 \n",
      "(CVXPY) Mar 02 10:09:43 PM:   Objective sense        : maximize        \n",
      "(CVXPY) Mar 02 10:09:43 PM:   Type                   : CONIC (conic optimization problem)\n",
      "(CVXPY) Mar 02 10:09:43 PM:   Constraints            : 6               \n",
      "(CVXPY) Mar 02 10:09:43 PM:   Affine conic cons.     : 0               \n",
      "(CVXPY) Mar 02 10:09:43 PM:   Disjunctive cons.      : 0               \n",
      "(CVXPY) Mar 02 10:09:43 PM:   Cones                  : 0               \n",
      "(CVXPY) Mar 02 10:09:43 PM:   Scalar variables       : 0               \n",
      "(CVXPY) Mar 02 10:09:43 PM:   Matrix variables       : 2               \n",
      "(CVXPY) Mar 02 10:09:43 PM:   Integer variables      : 0               \n",
      "(CVXPY) Mar 02 10:09:43 PM: \n",
      "(CVXPY) Mar 02 10:09:43 PM: Optimizer started.\n",
      "(CVXPY) Mar 02 10:09:43 PM: Presolve started.\n",
      "(CVXPY) Mar 02 10:09:43 PM: Eliminator started.\n",
      "(CVXPY) Mar 02 10:09:43 PM: Freed constraints in eliminator : 0\n",
      "(CVXPY) Mar 02 10:09:43 PM: Eliminator terminated.\n",
      "(CVXPY) Mar 02 10:09:43 PM: Linear dependency checker started.\n",
      "(CVXPY) Mar 02 10:09:43 PM: Linear dependency checker terminated.\n",
      "(CVXPY) Mar 02 10:09:43 PM: Eliminator started.\n",
      "(CVXPY) Mar 02 10:09:43 PM: Freed constraints in eliminator : 0\n",
      "(CVXPY) Mar 02 10:09:43 PM: Eliminator terminated.\n",
      "(CVXPY) Mar 02 10:09:43 PM: Eliminator - tries                  : 2                 time                   : 0.00            \n",
      "(CVXPY) Mar 02 10:09:43 PM: Lin. dep.  - tries                  : 1                 time                   : 0.00            \n",
      "(CVXPY) Mar 02 10:09:43 PM: Lin. dep.  - number                 : 0               \n",
      "(CVXPY) Mar 02 10:09:43 PM: Presolve terminated. Time: 0.00    \n",
      "(CVXPY) Mar 02 10:09:43 PM: Problem\n",
      "(CVXPY) Mar 02 10:09:43 PM:   Name                   :                 \n",
      "(CVXPY) Mar 02 10:09:43 PM:   Objective sense        : maximize        \n",
      "(CVXPY) Mar 02 10:09:43 PM:   Type                   : CONIC (conic optimization problem)\n",
      "(CVXPY) Mar 02 10:09:43 PM:   Constraints            : 6               \n",
      "(CVXPY) Mar 02 10:09:43 PM:   Affine conic cons.     : 0               \n",
      "(CVXPY) Mar 02 10:09:43 PM:   Disjunctive cons.      : 0               \n",
      "(CVXPY) Mar 02 10:09:43 PM:   Cones                  : 0               \n",
      "(CVXPY) Mar 02 10:09:43 PM:   Scalar variables       : 0               \n",
      "(CVXPY) Mar 02 10:09:43 PM:   Matrix variables       : 2               \n",
      "(CVXPY) Mar 02 10:09:43 PM:   Integer variables      : 0               \n",
      "(CVXPY) Mar 02 10:09:43 PM: \n",
      "(CVXPY) Mar 02 10:09:43 PM: Optimizer  - threads                : 8               \n",
      "(CVXPY) Mar 02 10:09:43 PM: Optimizer  - solved problem         : the primal      \n",
      "(CVXPY) Mar 02 10:09:43 PM: Optimizer  - Constraints            : 6\n",
      "(CVXPY) Mar 02 10:09:43 PM: Optimizer  - Cones                  : 0\n",
      "(CVXPY) Mar 02 10:09:43 PM: Optimizer  - Scalar variables       : 0                 conic                  : 0               \n",
      "(CVXPY) Mar 02 10:09:43 PM: Optimizer  - Semi-definite variables: 2                 scalarized             : 12              \n",
      "(CVXPY) Mar 02 10:09:43 PM: Factor     - setup time             : 0.00              dense det. time        : 0.00            \n",
      "(CVXPY) Mar 02 10:09:43 PM: Factor     - ML order time          : 0.00              GP order time          : 0.00            \n",
      "(CVXPY) Mar 02 10:09:43 PM: Factor     - nonzeros before factor : 21                after factor           : 21              \n",
      "(CVXPY) Mar 02 10:09:43 PM: Factor     - dense dim.             : 0                 flops                  : 5.98e+02        \n",
      "(CVXPY) Mar 02 10:09:43 PM: ITE PFEAS    DFEAS    GFEAS    PRSTATUS   POBJ              DOBJ              MU       TIME  \n",
      "(CVXPY) Mar 02 10:09:43 PM: 0   8.8e-01  2.0e+00  2.0e+00  0.00e+00   3.000000000e+00   0.000000000e+00   1.0e+00  0.00  \n",
      "(CVXPY) Mar 02 10:09:43 PM: 1   1.1e-01  2.6e-01  4.9e-01  -2.37e-01  8.854080219e+00   4.085513236e+00   1.3e-01  0.01  \n",
      "(CVXPY) Mar 02 10:09:43 PM: 2   2.5e-02  5.7e-02  2.4e-02  3.78e-01   1.085040393e+01   1.038591873e+01   2.9e-02  0.01  \n",
      "(CVXPY) Mar 02 10:09:43 PM: 3   2.8e-03  6.4e-03  8.2e-04  9.50e-01   1.213908271e+01   1.209098318e+01   3.2e-03  0.01  \n",
      "(CVXPY) Mar 02 10:09:43 PM: 4   3.1e-04  7.0e-04  1.9e-05  1.17e+00   1.229056139e+01   1.228673284e+01   3.5e-04  0.01  \n",
      "(CVXPY) Mar 02 10:09:43 PM: 5   6.1e-05  1.4e-04  1.7e-06  1.34e+00   1.229535794e+01   1.229469332e+01   6.9e-05  0.01  \n",
      "(CVXPY) Mar 02 10:09:43 PM: 6   1.5e-05  3.5e-05  3.8e-07  1.06e+00   1.229866108e+01   1.229841214e+01   1.7e-05  0.01  \n",
      "(CVXPY) Mar 02 10:09:43 PM: 7   9.1e-08  2.1e-07  1.7e-10  1.01e+00   1.229903133e+01   1.229902986e+01   1.0e-07  0.01  \n",
      "(CVXPY) Mar 02 10:09:43 PM: 8   1.9e-13  4.3e-13  3.7e-19  1.00e+00   1.229903522e+01   1.229903522e+01   1.1e-13  0.01  \n",
      "(CVXPY) Mar 02 10:09:43 PM: Optimizer terminated. Time: 0.03    \n",
      "(CVXPY) Mar 02 10:09:43 PM: \n",
      "(CVXPY) Mar 02 10:09:43 PM: \n",
      "(CVXPY) Mar 02 10:09:43 PM: Interior-point solution summary\n",
      "(CVXPY) Mar 02 10:09:43 PM:   Problem status  : PRIMAL_AND_DUAL_FEASIBLE\n",
      "(CVXPY) Mar 02 10:09:43 PM:   Solution status : OPTIMAL\n",
      "(CVXPY) Mar 02 10:09:43 PM:   Primal.  obj: 1.2299035222e+01    nrm: 1e+01    Viol.  con: 2e-10    barvar: 0e+00  \n",
      "(CVXPY) Mar 02 10:09:43 PM:   Dual.    obj: 1.2299035222e+01    nrm: 1e+01    Viol.  con: 0e+00    barvar: 2e-12  \n",
      "-------------------------------------------------------------------------------\n",
      "                                    Summary                                    \n",
      "-------------------------------------------------------------------------------\n",
      "(CVXPY) Mar 02 10:09:43 PM: Problem status: optimal\n",
      "(CVXPY) Mar 02 10:09:43 PM: Optimal value: 1.230e+01\n",
      "(CVXPY) Mar 02 10:09:43 PM: Compilation took 1.100e-02 seconds\n",
      "(CVXPY) Mar 02 10:09:43 PM: Solver (including time spent in interface) took 4.700e-02 seconds\n"
     ]
    },
    {
     "data": {
      "text/plain": [
       "12.299035222037102"
      ]
     },
     "execution_count": 8,
     "metadata": {},
     "output_type": "execute_result"
    }
   ],
   "source": [
    "# Define the LMI variables\n",
    "P = cp.Variable((n,n), symmetric = True)\n",
    "\n",
    "Q = np.eye(n)\n",
    "# Define the constraints for the LMI\n",
    "constratints = [P >>0, A.T @ P + P@A + Q << 0]\n",
    "\n",
    "# Define the objective for the LMI optimization problem\n",
    "obj = cp.Minimize(cp.trace(P))\n",
    "\n",
    "# Solve the LMI optimization problem\n",
    "prob = cp.Problem(obj, constratints)\n",
    "prob.solve(solver=cp.MOSEK, verbose=True) #, options=options)"
   ]
  },
  {
   "cell_type": "code",
   "execution_count": 9,
   "id": "0fed62a0",
   "metadata": {},
   "outputs": [
    {
     "data": {
      "text/plain": [
       "array([[ 0.63144717,  1.1774732 ,  0.1       ],\n",
       "       [ 1.1774732 , 11.57264165,  1.02289433],\n",
       "       [ 0.1       ,  1.02289433,  0.0949464 ]])"
      ]
     },
     "execution_count": 9,
     "metadata": {},
     "output_type": "execute_result"
    }
   ],
   "source": [
    "P.value"
   ]
  },
  {
   "cell_type": "code",
   "execution_count": 5,
   "id": "6e283878",
   "metadata": {},
   "outputs": [
    {
     "data": {
      "text/plain": [
       "array([[ 0.38333333, -0.11666667],\n",
       "       [-0.11666667,  0.18333333]])"
      ]
     },
     "execution_count": 5,
     "metadata": {},
     "output_type": "execute_result"
    }
   ],
   "source": [
    "P.value"
   ]
  },
  {
   "cell_type": "code",
   "execution_count": null,
   "id": "5d3c05af",
   "metadata": {},
   "outputs": [],
   "source": []
  }
 ],
 "metadata": {
  "kernelspec": {
   "display_name": "Python 3 (ipykernel)",
   "language": "python",
   "name": "python3"
  },
  "language_info": {
   "codemirror_mode": {
    "name": "ipython",
    "version": 3
   },
   "file_extension": ".py",
   "mimetype": "text/x-python",
   "name": "python",
   "nbconvert_exporter": "python",
   "pygments_lexer": "ipython3",
   "version": "3.9.13"
  }
 },
 "nbformat": 4,
 "nbformat_minor": 5
}
