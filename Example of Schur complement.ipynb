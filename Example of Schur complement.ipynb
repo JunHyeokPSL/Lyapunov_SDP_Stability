{
 "cells": [
  {
   "cell_type": "code",
   "execution_count": 1,
   "id": "3a14fdc6",
   "metadata": {},
   "outputs": [],
   "source": [
    "import numpy as np\n",
    "\n",
    "Ai = np.array([[1, 2], [3, 4]])\n",
    "Bi = np.array([[5, 6], [7, 8]])\n",
    "Ci = np.array([[9, 10], [11, 12]])\n",
    "Pi = np.array([[13, 14], [14, 15]])\n",
    "Pj = np.array([[16, 17], [17, 18]])"
   ]
  },
  {
   "cell_type": "code",
   "execution_count": 2,
   "id": "ef4ece3c",
   "metadata": {},
   "outputs": [],
   "source": [
    "Si, Ui = np.linalg.eigh(Pi)\n",
    "Sj, Uj = np.linalg.eigh(Pj)"
   ]
  },
  {
   "cell_type": "code",
   "execution_count": 3,
   "id": "bf9620bc",
   "metadata": {},
   "outputs": [],
   "source": [
    "M = Ai @ Si + Bi @ Ui @ Ci\n",
    "S = Sj - M.T @ np.linalg.inv(Pi) @ M"
   ]
  },
  {
   "cell_type": "code",
   "execution_count": 4,
   "id": "59347c57",
   "metadata": {},
   "outputs": [
    {
     "ename": "ValueError",
     "evalue": "all the input array dimensions for the concatenation axis must match exactly, but along dimension 0, the array at index 0 has size 1 and the array at index 1 has size 2",
     "output_type": "error",
     "traceback": [
      "\u001b[1;31m---------------------------------------------------------------------------\u001b[0m",
      "\u001b[1;31mValueError\u001b[0m                                Traceback (most recent call last)",
      "Input \u001b[1;32mIn [4]\u001b[0m, in \u001b[0;36m<cell line: 1>\u001b[1;34m()\u001b[0m\n\u001b[1;32m----> 1\u001b[0m eigvals \u001b[38;5;241m=\u001b[39m np\u001b[38;5;241m.\u001b[39mlinalg\u001b[38;5;241m.\u001b[39meigvals(\u001b[43mnp\u001b[49m\u001b[38;5;241;43m.\u001b[39;49m\u001b[43mblock\u001b[49m\u001b[43m(\u001b[49m\u001b[43m[\u001b[49m\u001b[43m[\u001b[49m\u001b[43mSi\u001b[49m\u001b[43m,\u001b[49m\u001b[43m \u001b[49m\u001b[43mM\u001b[49m\u001b[43m]\u001b[49m\u001b[43m,\u001b[49m\u001b[43m \u001b[49m\u001b[43m[\u001b[49m\u001b[43mM\u001b[49m\u001b[38;5;241;43m.\u001b[39;49m\u001b[43mT\u001b[49m\u001b[43m,\u001b[49m\u001b[43m \u001b[49m\u001b[43mS\u001b[49m\u001b[43m]\u001b[49m\u001b[43m]\u001b[49m\u001b[43m)\u001b[49m)\n\u001b[0;32m      2\u001b[0m \u001b[38;5;28;01mif\u001b[39;00m np\u001b[38;5;241m.\u001b[39mall(eigvals \u001b[38;5;241m>\u001b[39m \u001b[38;5;241m0\u001b[39m):\n\u001b[0;32m      3\u001b[0m     \u001b[38;5;28mprint\u001b[39m(\u001b[38;5;124m\"\u001b[39m\u001b[38;5;124mY is positive definite!\u001b[39m\u001b[38;5;124m\"\u001b[39m)\n",
      "File \u001b[1;32m<__array_function__ internals>:180\u001b[0m, in \u001b[0;36mblock\u001b[1;34m(*args, **kwargs)\u001b[0m\n",
      "File \u001b[1;32m~\\AppData\\Roaming\\Python\\Python39\\site-packages\\numpy\\core\\shape_base.py:847\u001b[0m, in \u001b[0;36mblock\u001b[1;34m(arrays)\u001b[0m\n\u001b[0;32m    845\u001b[0m     \u001b[38;5;28;01mreturn\u001b[39;00m _block_slicing(arrays, list_ndim, result_ndim)\n\u001b[0;32m    846\u001b[0m \u001b[38;5;28;01melse\u001b[39;00m:\n\u001b[1;32m--> 847\u001b[0m     \u001b[38;5;28;01mreturn\u001b[39;00m \u001b[43m_block_concatenate\u001b[49m\u001b[43m(\u001b[49m\u001b[43marrays\u001b[49m\u001b[43m,\u001b[49m\u001b[43m \u001b[49m\u001b[43mlist_ndim\u001b[49m\u001b[43m,\u001b[49m\u001b[43m \u001b[49m\u001b[43mresult_ndim\u001b[49m\u001b[43m)\u001b[49m\n",
      "File \u001b[1;32m~\\AppData\\Roaming\\Python\\Python39\\site-packages\\numpy\\core\\shape_base.py:891\u001b[0m, in \u001b[0;36m_block_concatenate\u001b[1;34m(arrays, list_ndim, result_ndim)\u001b[0m\n\u001b[0;32m    890\u001b[0m \u001b[38;5;28;01mdef\u001b[39;00m \u001b[38;5;21m_block_concatenate\u001b[39m(arrays, list_ndim, result_ndim):\n\u001b[1;32m--> 891\u001b[0m     result \u001b[38;5;241m=\u001b[39m \u001b[43m_block\u001b[49m\u001b[43m(\u001b[49m\u001b[43marrays\u001b[49m\u001b[43m,\u001b[49m\u001b[43m \u001b[49m\u001b[43mlist_ndim\u001b[49m\u001b[43m,\u001b[49m\u001b[43m \u001b[49m\u001b[43mresult_ndim\u001b[49m\u001b[43m)\u001b[49m\n\u001b[0;32m    892\u001b[0m     \u001b[38;5;28;01mif\u001b[39;00m list_ndim \u001b[38;5;241m==\u001b[39m \u001b[38;5;241m0\u001b[39m:\n\u001b[0;32m    893\u001b[0m         \u001b[38;5;66;03m# Catch an edge case where _block returns a view because\u001b[39;00m\n\u001b[0;32m    894\u001b[0m         \u001b[38;5;66;03m# `arrays` is a single numpy array and not a list of numpy arrays.\u001b[39;00m\n\u001b[0;32m    895\u001b[0m         \u001b[38;5;66;03m# This might copy scalars or lists twice, but this isn't a likely\u001b[39;00m\n\u001b[0;32m    896\u001b[0m         \u001b[38;5;66;03m# usecase for those interested in performance\u001b[39;00m\n\u001b[0;32m    897\u001b[0m         result \u001b[38;5;241m=\u001b[39m result\u001b[38;5;241m.\u001b[39mcopy()\n",
      "File \u001b[1;32m~\\AppData\\Roaming\\Python\\Python39\\site-packages\\numpy\\core\\shape_base.py:658\u001b[0m, in \u001b[0;36m_block\u001b[1;34m(arrays, max_depth, result_ndim, depth)\u001b[0m\n\u001b[0;32m    649\u001b[0m \u001b[38;5;124;03m\"\"\"\u001b[39;00m\n\u001b[0;32m    650\u001b[0m \u001b[38;5;124;03mInternal implementation of block based on repeated concatenation.\u001b[39;00m\n\u001b[0;32m    651\u001b[0m \u001b[38;5;124;03m`arrays` is the argument passed to\u001b[39;00m\n\u001b[1;32m   (...)\u001b[0m\n\u001b[0;32m    655\u001b[0m \u001b[38;5;124;03mfor details).\u001b[39;00m\n\u001b[0;32m    656\u001b[0m \u001b[38;5;124;03m\"\"\"\u001b[39;00m\n\u001b[0;32m    657\u001b[0m \u001b[38;5;28;01mif\u001b[39;00m depth \u001b[38;5;241m<\u001b[39m max_depth:\n\u001b[1;32m--> 658\u001b[0m     arrs \u001b[38;5;241m=\u001b[39m [_block(arr, max_depth, result_ndim, depth\u001b[38;5;241m+\u001b[39m\u001b[38;5;241m1\u001b[39m)\n\u001b[0;32m    659\u001b[0m             \u001b[38;5;28;01mfor\u001b[39;00m arr \u001b[38;5;129;01min\u001b[39;00m arrays]\n\u001b[0;32m    660\u001b[0m     \u001b[38;5;28;01mreturn\u001b[39;00m _concatenate(arrs, axis\u001b[38;5;241m=\u001b[39m\u001b[38;5;241m-\u001b[39m(max_depth\u001b[38;5;241m-\u001b[39mdepth))\n\u001b[0;32m    661\u001b[0m \u001b[38;5;28;01melse\u001b[39;00m:\n\u001b[0;32m    662\u001b[0m     \u001b[38;5;66;03m# We've 'bottomed out' - arrays is either a scalar or an array\u001b[39;00m\n\u001b[0;32m    663\u001b[0m     \u001b[38;5;66;03m# type(arrays) is not list\u001b[39;00m\n",
      "File \u001b[1;32m~\\AppData\\Roaming\\Python\\Python39\\site-packages\\numpy\\core\\shape_base.py:658\u001b[0m, in \u001b[0;36m<listcomp>\u001b[1;34m(.0)\u001b[0m\n\u001b[0;32m    649\u001b[0m \u001b[38;5;124;03m\"\"\"\u001b[39;00m\n\u001b[0;32m    650\u001b[0m \u001b[38;5;124;03mInternal implementation of block based on repeated concatenation.\u001b[39;00m\n\u001b[0;32m    651\u001b[0m \u001b[38;5;124;03m`arrays` is the argument passed to\u001b[39;00m\n\u001b[1;32m   (...)\u001b[0m\n\u001b[0;32m    655\u001b[0m \u001b[38;5;124;03mfor details).\u001b[39;00m\n\u001b[0;32m    656\u001b[0m \u001b[38;5;124;03m\"\"\"\u001b[39;00m\n\u001b[0;32m    657\u001b[0m \u001b[38;5;28;01mif\u001b[39;00m depth \u001b[38;5;241m<\u001b[39m max_depth:\n\u001b[1;32m--> 658\u001b[0m     arrs \u001b[38;5;241m=\u001b[39m [\u001b[43m_block\u001b[49m\u001b[43m(\u001b[49m\u001b[43marr\u001b[49m\u001b[43m,\u001b[49m\u001b[43m \u001b[49m\u001b[43mmax_depth\u001b[49m\u001b[43m,\u001b[49m\u001b[43m \u001b[49m\u001b[43mresult_ndim\u001b[49m\u001b[43m,\u001b[49m\u001b[43m \u001b[49m\u001b[43mdepth\u001b[49m\u001b[38;5;241;43m+\u001b[39;49m\u001b[38;5;241;43m1\u001b[39;49m\u001b[43m)\u001b[49m\n\u001b[0;32m    659\u001b[0m             \u001b[38;5;28;01mfor\u001b[39;00m arr \u001b[38;5;129;01min\u001b[39;00m arrays]\n\u001b[0;32m    660\u001b[0m     \u001b[38;5;28;01mreturn\u001b[39;00m _concatenate(arrs, axis\u001b[38;5;241m=\u001b[39m\u001b[38;5;241m-\u001b[39m(max_depth\u001b[38;5;241m-\u001b[39mdepth))\n\u001b[0;32m    661\u001b[0m \u001b[38;5;28;01melse\u001b[39;00m:\n\u001b[0;32m    662\u001b[0m     \u001b[38;5;66;03m# We've 'bottomed out' - arrays is either a scalar or an array\u001b[39;00m\n\u001b[0;32m    663\u001b[0m     \u001b[38;5;66;03m# type(arrays) is not list\u001b[39;00m\n",
      "File \u001b[1;32m~\\AppData\\Roaming\\Python\\Python39\\site-packages\\numpy\\core\\shape_base.py:660\u001b[0m, in \u001b[0;36m_block\u001b[1;34m(arrays, max_depth, result_ndim, depth)\u001b[0m\n\u001b[0;32m    657\u001b[0m \u001b[38;5;28;01mif\u001b[39;00m depth \u001b[38;5;241m<\u001b[39m max_depth:\n\u001b[0;32m    658\u001b[0m     arrs \u001b[38;5;241m=\u001b[39m [_block(arr, max_depth, result_ndim, depth\u001b[38;5;241m+\u001b[39m\u001b[38;5;241m1\u001b[39m)\n\u001b[0;32m    659\u001b[0m             \u001b[38;5;28;01mfor\u001b[39;00m arr \u001b[38;5;129;01min\u001b[39;00m arrays]\n\u001b[1;32m--> 660\u001b[0m     \u001b[38;5;28;01mreturn\u001b[39;00m \u001b[43m_concatenate\u001b[49m\u001b[43m(\u001b[49m\u001b[43marrs\u001b[49m\u001b[43m,\u001b[49m\u001b[43m \u001b[49m\u001b[43maxis\u001b[49m\u001b[38;5;241;43m=\u001b[39;49m\u001b[38;5;241;43m-\u001b[39;49m\u001b[43m(\u001b[49m\u001b[43mmax_depth\u001b[49m\u001b[38;5;241;43m-\u001b[39;49m\u001b[43mdepth\u001b[49m\u001b[43m)\u001b[49m\u001b[43m)\u001b[49m\n\u001b[0;32m    661\u001b[0m \u001b[38;5;28;01melse\u001b[39;00m:\n\u001b[0;32m    662\u001b[0m     \u001b[38;5;66;03m# We've 'bottomed out' - arrays is either a scalar or an array\u001b[39;00m\n\u001b[0;32m    663\u001b[0m     \u001b[38;5;66;03m# type(arrays) is not list\u001b[39;00m\n\u001b[0;32m    664\u001b[0m     \u001b[38;5;28;01mreturn\u001b[39;00m _atleast_nd(arrays, result_ndim)\n",
      "\u001b[1;31mValueError\u001b[0m: all the input array dimensions for the concatenation axis must match exactly, but along dimension 0, the array at index 0 has size 1 and the array at index 1 has size 2"
     ]
    }
   ],
   "source": [
    "eigvals = np.linalg.eigvals(np.block([[Si, M], [M.T, S]]))\n",
    "if np.all(eigvals > 0):\n",
    "    print(\"Y is positive definite!\")"
   ]
  },
  {
   "cell_type": "code",
   "execution_count": 16,
   "id": "a42d9146",
   "metadata": {},
   "outputs": [],
   "source": [
    "Si = Si[:, np.newaxis]"
   ]
  },
  {
   "cell_type": "code",
   "execution_count": 17,
   "id": "c06746db",
   "metadata": {},
   "outputs": [
    {
     "name": "stdout",
     "output_type": "stream",
     "text": [
      "[[[[-0.03566885]]]\n",
      "\n",
      "\n",
      " [[[28.03566885]]]]\n"
     ]
    }
   ],
   "source": [
    "print(Si)"
   ]
  },
  {
   "cell_type": "code",
   "execution_count": null,
   "id": "fbd7c8f0",
   "metadata": {},
   "outputs": [],
   "source": []
  },
  {
   "cell_type": "code",
   "execution_count": 7,
   "id": "23b698d8",
   "metadata": {},
   "outputs": [
    {
     "ename": "ValueError",
     "evalue": "all the input array dimensions for the concatenation axis must match exactly, but along dimension 0, the array at index 0 has size 1 and the array at index 1 has size 2",
     "output_type": "error",
     "traceback": [
      "\u001b[1;31m---------------------------------------------------------------------------\u001b[0m",
      "\u001b[1;31mValueError\u001b[0m                                Traceback (most recent call last)",
      "Input \u001b[1;32mIn [7]\u001b[0m, in \u001b[0;36m<cell line: 1>\u001b[1;34m()\u001b[0m\n\u001b[1;32m----> 1\u001b[0m \u001b[43mnp\u001b[49m\u001b[38;5;241;43m.\u001b[39;49m\u001b[43mblock\u001b[49m\u001b[43m(\u001b[49m\u001b[43m[\u001b[49m\u001b[43m[\u001b[49m\u001b[43mSi\u001b[49m\u001b[43m,\u001b[49m\u001b[43m \u001b[49m\u001b[43mM\u001b[49m\u001b[43m]\u001b[49m\u001b[43m,\u001b[49m\u001b[43m \u001b[49m\u001b[43m[\u001b[49m\u001b[43mM\u001b[49m\u001b[38;5;241;43m.\u001b[39;49m\u001b[43mT\u001b[49m\u001b[43m,\u001b[49m\u001b[43m \u001b[49m\u001b[43mS\u001b[49m\u001b[43m]\u001b[49m\u001b[43m]\u001b[49m\u001b[43m)\u001b[49m\n",
      "File \u001b[1;32m<__array_function__ internals>:180\u001b[0m, in \u001b[0;36mblock\u001b[1;34m(*args, **kwargs)\u001b[0m\n",
      "File \u001b[1;32m~\\AppData\\Roaming\\Python\\Python39\\site-packages\\numpy\\core\\shape_base.py:847\u001b[0m, in \u001b[0;36mblock\u001b[1;34m(arrays)\u001b[0m\n\u001b[0;32m    845\u001b[0m     \u001b[38;5;28;01mreturn\u001b[39;00m _block_slicing(arrays, list_ndim, result_ndim)\n\u001b[0;32m    846\u001b[0m \u001b[38;5;28;01melse\u001b[39;00m:\n\u001b[1;32m--> 847\u001b[0m     \u001b[38;5;28;01mreturn\u001b[39;00m \u001b[43m_block_concatenate\u001b[49m\u001b[43m(\u001b[49m\u001b[43marrays\u001b[49m\u001b[43m,\u001b[49m\u001b[43m \u001b[49m\u001b[43mlist_ndim\u001b[49m\u001b[43m,\u001b[49m\u001b[43m \u001b[49m\u001b[43mresult_ndim\u001b[49m\u001b[43m)\u001b[49m\n",
      "File \u001b[1;32m~\\AppData\\Roaming\\Python\\Python39\\site-packages\\numpy\\core\\shape_base.py:891\u001b[0m, in \u001b[0;36m_block_concatenate\u001b[1;34m(arrays, list_ndim, result_ndim)\u001b[0m\n\u001b[0;32m    890\u001b[0m \u001b[38;5;28;01mdef\u001b[39;00m \u001b[38;5;21m_block_concatenate\u001b[39m(arrays, list_ndim, result_ndim):\n\u001b[1;32m--> 891\u001b[0m     result \u001b[38;5;241m=\u001b[39m \u001b[43m_block\u001b[49m\u001b[43m(\u001b[49m\u001b[43marrays\u001b[49m\u001b[43m,\u001b[49m\u001b[43m \u001b[49m\u001b[43mlist_ndim\u001b[49m\u001b[43m,\u001b[49m\u001b[43m \u001b[49m\u001b[43mresult_ndim\u001b[49m\u001b[43m)\u001b[49m\n\u001b[0;32m    892\u001b[0m     \u001b[38;5;28;01mif\u001b[39;00m list_ndim \u001b[38;5;241m==\u001b[39m \u001b[38;5;241m0\u001b[39m:\n\u001b[0;32m    893\u001b[0m         \u001b[38;5;66;03m# Catch an edge case where _block returns a view because\u001b[39;00m\n\u001b[0;32m    894\u001b[0m         \u001b[38;5;66;03m# `arrays` is a single numpy array and not a list of numpy arrays.\u001b[39;00m\n\u001b[0;32m    895\u001b[0m         \u001b[38;5;66;03m# This might copy scalars or lists twice, but this isn't a likely\u001b[39;00m\n\u001b[0;32m    896\u001b[0m         \u001b[38;5;66;03m# usecase for those interested in performance\u001b[39;00m\n\u001b[0;32m    897\u001b[0m         result \u001b[38;5;241m=\u001b[39m result\u001b[38;5;241m.\u001b[39mcopy()\n",
      "File \u001b[1;32m~\\AppData\\Roaming\\Python\\Python39\\site-packages\\numpy\\core\\shape_base.py:658\u001b[0m, in \u001b[0;36m_block\u001b[1;34m(arrays, max_depth, result_ndim, depth)\u001b[0m\n\u001b[0;32m    649\u001b[0m \u001b[38;5;124;03m\"\"\"\u001b[39;00m\n\u001b[0;32m    650\u001b[0m \u001b[38;5;124;03mInternal implementation of block based on repeated concatenation.\u001b[39;00m\n\u001b[0;32m    651\u001b[0m \u001b[38;5;124;03m`arrays` is the argument passed to\u001b[39;00m\n\u001b[1;32m   (...)\u001b[0m\n\u001b[0;32m    655\u001b[0m \u001b[38;5;124;03mfor details).\u001b[39;00m\n\u001b[0;32m    656\u001b[0m \u001b[38;5;124;03m\"\"\"\u001b[39;00m\n\u001b[0;32m    657\u001b[0m \u001b[38;5;28;01mif\u001b[39;00m depth \u001b[38;5;241m<\u001b[39m max_depth:\n\u001b[1;32m--> 658\u001b[0m     arrs \u001b[38;5;241m=\u001b[39m [_block(arr, max_depth, result_ndim, depth\u001b[38;5;241m+\u001b[39m\u001b[38;5;241m1\u001b[39m)\n\u001b[0;32m    659\u001b[0m             \u001b[38;5;28;01mfor\u001b[39;00m arr \u001b[38;5;129;01min\u001b[39;00m arrays]\n\u001b[0;32m    660\u001b[0m     \u001b[38;5;28;01mreturn\u001b[39;00m _concatenate(arrs, axis\u001b[38;5;241m=\u001b[39m\u001b[38;5;241m-\u001b[39m(max_depth\u001b[38;5;241m-\u001b[39mdepth))\n\u001b[0;32m    661\u001b[0m \u001b[38;5;28;01melse\u001b[39;00m:\n\u001b[0;32m    662\u001b[0m     \u001b[38;5;66;03m# We've 'bottomed out' - arrays is either a scalar or an array\u001b[39;00m\n\u001b[0;32m    663\u001b[0m     \u001b[38;5;66;03m# type(arrays) is not list\u001b[39;00m\n",
      "File \u001b[1;32m~\\AppData\\Roaming\\Python\\Python39\\site-packages\\numpy\\core\\shape_base.py:658\u001b[0m, in \u001b[0;36m<listcomp>\u001b[1;34m(.0)\u001b[0m\n\u001b[0;32m    649\u001b[0m \u001b[38;5;124;03m\"\"\"\u001b[39;00m\n\u001b[0;32m    650\u001b[0m \u001b[38;5;124;03mInternal implementation of block based on repeated concatenation.\u001b[39;00m\n\u001b[0;32m    651\u001b[0m \u001b[38;5;124;03m`arrays` is the argument passed to\u001b[39;00m\n\u001b[1;32m   (...)\u001b[0m\n\u001b[0;32m    655\u001b[0m \u001b[38;5;124;03mfor details).\u001b[39;00m\n\u001b[0;32m    656\u001b[0m \u001b[38;5;124;03m\"\"\"\u001b[39;00m\n\u001b[0;32m    657\u001b[0m \u001b[38;5;28;01mif\u001b[39;00m depth \u001b[38;5;241m<\u001b[39m max_depth:\n\u001b[1;32m--> 658\u001b[0m     arrs \u001b[38;5;241m=\u001b[39m [\u001b[43m_block\u001b[49m\u001b[43m(\u001b[49m\u001b[43marr\u001b[49m\u001b[43m,\u001b[49m\u001b[43m \u001b[49m\u001b[43mmax_depth\u001b[49m\u001b[43m,\u001b[49m\u001b[43m \u001b[49m\u001b[43mresult_ndim\u001b[49m\u001b[43m,\u001b[49m\u001b[43m \u001b[49m\u001b[43mdepth\u001b[49m\u001b[38;5;241;43m+\u001b[39;49m\u001b[38;5;241;43m1\u001b[39;49m\u001b[43m)\u001b[49m\n\u001b[0;32m    659\u001b[0m             \u001b[38;5;28;01mfor\u001b[39;00m arr \u001b[38;5;129;01min\u001b[39;00m arrays]\n\u001b[0;32m    660\u001b[0m     \u001b[38;5;28;01mreturn\u001b[39;00m _concatenate(arrs, axis\u001b[38;5;241m=\u001b[39m\u001b[38;5;241m-\u001b[39m(max_depth\u001b[38;5;241m-\u001b[39mdepth))\n\u001b[0;32m    661\u001b[0m \u001b[38;5;28;01melse\u001b[39;00m:\n\u001b[0;32m    662\u001b[0m     \u001b[38;5;66;03m# We've 'bottomed out' - arrays is either a scalar or an array\u001b[39;00m\n\u001b[0;32m    663\u001b[0m     \u001b[38;5;66;03m# type(arrays) is not list\u001b[39;00m\n",
      "File \u001b[1;32m~\\AppData\\Roaming\\Python\\Python39\\site-packages\\numpy\\core\\shape_base.py:660\u001b[0m, in \u001b[0;36m_block\u001b[1;34m(arrays, max_depth, result_ndim, depth)\u001b[0m\n\u001b[0;32m    657\u001b[0m \u001b[38;5;28;01mif\u001b[39;00m depth \u001b[38;5;241m<\u001b[39m max_depth:\n\u001b[0;32m    658\u001b[0m     arrs \u001b[38;5;241m=\u001b[39m [_block(arr, max_depth, result_ndim, depth\u001b[38;5;241m+\u001b[39m\u001b[38;5;241m1\u001b[39m)\n\u001b[0;32m    659\u001b[0m             \u001b[38;5;28;01mfor\u001b[39;00m arr \u001b[38;5;129;01min\u001b[39;00m arrays]\n\u001b[1;32m--> 660\u001b[0m     \u001b[38;5;28;01mreturn\u001b[39;00m \u001b[43m_concatenate\u001b[49m\u001b[43m(\u001b[49m\u001b[43marrs\u001b[49m\u001b[43m,\u001b[49m\u001b[43m \u001b[49m\u001b[43maxis\u001b[49m\u001b[38;5;241;43m=\u001b[39;49m\u001b[38;5;241;43m-\u001b[39;49m\u001b[43m(\u001b[49m\u001b[43mmax_depth\u001b[49m\u001b[38;5;241;43m-\u001b[39;49m\u001b[43mdepth\u001b[49m\u001b[43m)\u001b[49m\u001b[43m)\u001b[49m\n\u001b[0;32m    661\u001b[0m \u001b[38;5;28;01melse\u001b[39;00m:\n\u001b[0;32m    662\u001b[0m     \u001b[38;5;66;03m# We've 'bottomed out' - arrays is either a scalar or an array\u001b[39;00m\n\u001b[0;32m    663\u001b[0m     \u001b[38;5;66;03m# type(arrays) is not list\u001b[39;00m\n\u001b[0;32m    664\u001b[0m     \u001b[38;5;28;01mreturn\u001b[39;00m _atleast_nd(arrays, result_ndim)\n",
      "\u001b[1;31mValueError\u001b[0m: all the input array dimensions for the concatenation axis must match exactly, but along dimension 0, the array at index 0 has size 1 and the array at index 1 has size 2"
     ]
    }
   ],
   "source": [
    "np.block([[Si, M], [M.T, S]])"
   ]
  },
  {
   "cell_type": "code",
   "execution_count": null,
   "id": "99047ff3",
   "metadata": {},
   "outputs": [],
   "source": []
  }
 ],
 "metadata": {
  "kernelspec": {
   "display_name": "Python 3 (ipykernel)",
   "language": "python",
   "name": "python3"
  },
  "language_info": {
   "codemirror_mode": {
    "name": "ipython",
    "version": 3
   },
   "file_extension": ".py",
   "mimetype": "text/x-python",
   "name": "python",
   "nbconvert_exporter": "python",
   "pygments_lexer": "ipython3",
   "version": "3.9.13"
  }
 },
 "nbformat": 4,
 "nbformat_minor": 5
}
